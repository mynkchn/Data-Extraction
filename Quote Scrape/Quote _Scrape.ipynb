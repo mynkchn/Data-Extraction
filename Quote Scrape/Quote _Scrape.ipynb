{
 "cells": [
  {
   "cell_type": "markdown",
   "id": "45e9c19e-d7ab-4b51-8327-4e69cbc6169c",
   "metadata": {},
   "source": [
    "# 🌟 **Quote Scraper** 🌟  \n",
    "### *\"Unleash the wisdom of the web, one quote at a time.\"*  \n",
    "---\n",
    "\n"
   ]
  },
  {
   "cell_type": "markdown",
   "id": "47c050ec-fd43-4b8c-9ad0-8d7f7c7b31b6",
   "metadata": {},
   "source": [
    "***This project is a fun and interactive Python script that scrapes motivational quotes from the web and challenges you to guess the author. Test your knowledge while enjoying insightful quotes along the way!***"
   ]
  },
  {
   "cell_type": "markdown",
   "id": "19b9c0e7-baf3-426d-8305-70f39b3fd90c",
   "metadata": {},
   "source": [
    "## Technologies Used\n",
    "- **Python** for scripting and logic\n",
    "- **Requests** for making HTTP requests\n",
    "- **BeautifulSoup** for web scraping\n",
    "- **Random** for selecting quotes randomly\n",
    "- **Time** for adding delays during scraping to prevent server overload\n"
   ]
  },
  {
   "cell_type": "markdown",
   "id": "2ecda73c-c5b2-4c7d-b5e6-f49aff8c6f48",
   "metadata": {},
   "source": [
    "## What It Does\n",
    "- Scrapes quotes from [quotes.toscrape.com](http://quotes.toscrape.com)\n",
    "- Saves the scraped quotes to a text file\n",
    "- Starts a guessing game where you try to identify the author of a randomly selected quote\n",
    "- Provides helpful hints if you struggle to guess the author\n"
   ]
  },
  {
   "cell_type": "markdown",
   "id": "8c198bd7-0017-4f39-91ea-18f85867c50a",
   "metadata": {},
   "source": [
    "### Lets Begin to Code"
   ]
  },
  {
   "cell_type": "code",
   "execution_count": null,
   "id": "0a2eef2c-d173-4315-af7f-b64ec1d6e1e5",
   "metadata": {},
   "outputs": [],
   "source": [
    "import requests\n",
    "from bs4 import BeautifulSoup\n",
    "from time import sleep\n",
    "from random import choice"
   ]
  },
  {
   "cell_type": "markdown",
   "id": "89c7de77-5ef9-4141-a1f2-b9389eb5a64b",
   "metadata": {},
   "source": [
    "Scraping Data From :"
   ]
  },
  {
   "cell_type": "code",
   "execution_count": null,
   "id": "ed7d7a71-8da0-4e25-9f8e-8af6ace8a21d",
   "metadata": {},
   "outputs": [],
   "source": [
    "url = 'http://quotes.toscrape.com'\n",
    "link = '/page/1'"
   ]
  },
  {
   "cell_type": "markdown",
   "id": "33d17130-1c07-4ddf-9a36-85cf342fe425",
   "metadata": {},
   "source": [
    "Lets Collect the quotes and store it in a CSV file"
   ]
  },
  {
   "cell_type": "code",
   "execution_count": null,
   "id": "4140dcb6-36d9-4428-b3a0-d6fa34d7d163",
   "metadata": {},
   "outputs": [],
   "source": [
    "\n",
    "allquotes = []\n",
    "\n",
    "while link:\n",
    "    try:\n",
    "        response = requests.get(f'{url}{link}')\n",
    "        response.raise_for_status()\n",
    "        soup = BeautifulSoup(response.text, 'html.parser')\n",
    "    except requests.RequestException as e:\n",
    "        print(f'Error {e} occurred while fetching quotes.')\n",
    "        break\n",
    "    quotes = soup.find_all(class_='quote')\n",
    "    for quote in quotes:\n",
    "        try:\n",
    "            allquotes.append(\n",
    "                {\n",
    "                    'text': quote.find(class_='text').get_text(),\n",
    "                    'author': quote.find(class_='author').get_text(),\n",
    "                    'bio-link': quote.find('a')['href']\n",
    "                }\n",
    "            )\n",
    "        except AttributeError:\n",
    "            print(\"Error parsing a quote — skipping it.\")\n",
    "            continue\n",
    "    next_btn = soup.find(class_='next')\n",
    "    link = next_btn.find('a')['href'] if next_btn else None\n",
    "    sleep(2)\n",
    "print(f\"Scraped {len(allquotes)} quotes successfully!\")\n",
    "try:\n",
    "    with open('quotes.txt', 'a+') as writefile:\n",
    "        writefile.write(' Quote | Author | Link ' + '\\n')\n",
    "        for quote in allquotes:\n",
    "            writefile.write(f\"{quote['text']} | {quote['author']} | {quote['bio-link']}\\n\")\n",
    "except Exception as e:\n",
    "    print(f'Failed to save quotes to file due to {e}')\n",
    "    "
   ]
  },
  {
   "cell_type": "markdown",
   "id": "3b137179-c850-4e62-b3b6-d1bfa13d8d27",
   "metadata": {},
   "source": [
    "Now lets make these game 'HAPPEN' :"
   ]
  },
  {
   "cell_type": "code",
   "execution_count": null,
   "id": "4328200c-470b-463b-89e7-4fa0593974bb",
   "metadata": {},
   "outputs": [],
   "source": [
    "quote = choice(allquotes)\n",
    "remaining_choices = 4\n",
    "print(\"Here's a quote:\")\n",
    "print(quote['text'])\n",
    "guess = ''\n",
    "while guess.lower() != quote['author'].lower() and remaining_choices > 0:\n",
    "    guess = input(f'Who said this quote? Guesses remaining {remaining_choices}: ')\n",
    "    if guess.strip().lower() == quote['author'].strip().lower():\n",
    "        print('🎯 Congratulations! You got it right.')\n",
    "        break\n",
    "    remaining_choices -= 1\n",
    "    if remaining_choices == 1:\n",
    "        try:\n",
    "            res = requests.get(f\"{url}{quote['bio-link']}\")\n",
    "            res.raise_for_status()\n",
    "            soup = BeautifulSoup(res.text, 'html.parser')\n",
    "            birth_date = soup.find(class_='author-born-date').get_text()\n",
    "            birth_place = soup.find(class_='author-born-location').get_text()\n",
    "            print(f'Hint: The author was born on {birth_date} {birth_place}.')\n",
    "        except Exception:\n",
    "            print(\"Could not fetch author details.\")\n",
    "    elif remaining_choices == 2:\n",
    "        print(f\"Hint: The author's first name starts with {quote['author'][0]}\")\n",
    "    elif remaining_choices == 3:\n",
    "        author_parts = quote['author'].split()\n",
    "        if len(author_parts) > 1:\n",
    "            last_initial = author_parts[1][0]\n",
    "            print(f\"Hint: The author's last name starts with {last_initial}\")\n",
    "        else:\n",
    "            print(\"Hint: The author has only one name.\")\n",
    "    else:\n",
    "        print(f'Sorry, you ran out of guesses. The correct answer is {quote[\"author\"]}.')\n"
   ]
  },
  {
   "cell_type": "markdown",
   "id": "c7fa2f94-1b8d-455e-a248-f0878f7821c0",
   "metadata": {},
   "source": [
    "## Conclusion\n",
    "***This Quote Scraper and Guessing Game offers both entertainment and educational value. It combines web scraping skills with logic-building through a fun guessing challenge. Keep practicing, improving, and enhancing your Python skills with projects like these!***"
   ]
  },
  {
   "cell_type": "code",
   "execution_count": null,
   "id": "ae6e8846-15fb-414d-af13-d522584e6eeb",
   "metadata": {},
   "outputs": [],
   "source": []
  }
 ],
 "metadata": {
  "kernelspec": {
   "display_name": "Python 3 (ipykernel)",
   "language": "python",
   "name": "python3"
  },
  "language_info": {
   "codemirror_mode": {
    "name": "ipython",
    "version": 3
   },
   "file_extension": ".py",
   "mimetype": "text/x-python",
   "name": "python",
   "nbconvert_exporter": "python",
   "pygments_lexer": "ipython3",
   "version": "3.12.7"
  }
 },
 "nbformat": 4,
 "nbformat_minor": 5
}
